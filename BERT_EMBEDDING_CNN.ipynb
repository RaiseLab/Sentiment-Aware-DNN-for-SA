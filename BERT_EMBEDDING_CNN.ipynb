{
  "nbformat": 4,
  "nbformat_minor": 0,
  "metadata": {
    "colab": {
      "name": "BERT-EMBEDDING_CNN.ipynb",
      "provenance": [],
      "collapsed_sections": [],
      "machine_shape": "hm"
    },
    "kernelspec": {
      "name": "python3",
      "display_name": "Python 3"
    }
  },
  "cells": [
    {
      "cell_type": "code",
      "metadata": {
        "id": "2-Z15bFfZ3DO",
        "colab": {
          "base_uri": "https://localhost:8080/"
        },
        "outputId": "972ef0d2-3ac5-4188-f7af-e9e36d6811b6"
      },
      "source": [
        "from google.colab import drive\n",
        "drive.mount(\"/content/drive\")"
      ],
      "execution_count": 1,
      "outputs": [
        {
          "output_type": "stream",
          "name": "stdout",
          "text": [
            "Mounted at /content/drive\n"
          ]
        }
      ]
    },
    {
      "cell_type": "code",
      "metadata": {
        "id": "e9ARMMPuaDHf"
      },
      "source": [
        "path = \"/content/drive/MyDrive/JK_Research/Sentiment-Analysis-using-BERT-master/BERT-embedding-CNN/\""
      ],
      "execution_count": null,
      "outputs": []
    },
    {
      "cell_type": "code",
      "metadata": {
        "id": "1HsOkCtwaEuf",
        "colab": {
          "base_uri": "https://localhost:8080/"
        },
        "outputId": "fa2a7fb8-da46-489d-dc0c-9ab12791a335"
      },
      "source": [
        "import pickle\n",
        "import pandas as pd\n",
        "df = pd.read_csv(\"/content/drive/MyDrive/JK_Research/Sentiment-Analysis-using-BERT-master/BERT-base/train_set.csv\")\n",
        "print (df.shape)\n",
        "df_test = pd.read_csv('/content/drive/MyDrive/JK_Research/Sentiment-Analysis-using-BERT-master/BERT-base/test_set.csv')\n",
        "df_test = df_test.dropna()\n",
        "df = df.dropna()"
      ],
      "execution_count": null,
      "outputs": [
        {
          "output_type": "stream",
          "name": "stdout",
          "text": [
            "(40761, 3)\n"
          ]
        }
      ]
    },
    {
      "cell_type": "code",
      "metadata": {
        "id": "PPFb7__TaFhT"
      },
      "source": [
        "data_train = df.review.to_list()\n",
        "label_train = df.label.to_list()\n",
        "data_test = df_test.review.tolist()\n",
        "label_test = df_test.label.tolist()"
      ],
      "execution_count": null,
      "outputs": []
    },
    {
      "cell_type": "code",
      "metadata": {
        "id": "XyMsKW8IaGiF"
      },
      "source": [
        "!pip install keras-bert\n",
        "!pip install keras-rectified-adam"
      ],
      "execution_count": null,
      "outputs": []
    },
    {
      "cell_type": "code",
      "metadata": {
        "id": "DRLq1BkhaLkU"
      },
      "source": [
        "pip install tensorflow==2.2.0"
      ],
      "execution_count": null,
      "outputs": []
    },
    {
      "cell_type": "code",
      "metadata": {
        "id": "xSMZtBhInQQw"
      },
      "source": [
        "pip install keras==2.3.1"
      ],
      "execution_count": null,
      "outputs": []
    },
    {
      "cell_type": "code",
      "metadata": {
        "id": "neqqdmmZaMfc"
      },
      "source": [
        "import codecs\n",
        "import tensorflow as tf\n",
        "from tensorflow import keras\n",
        "import os\n",
        "from keras_radam import RAdam\n",
        "from tensorflow.keras import backend as K\n",
        "from keras_bert import load_trained_model_from_checkpoint\n",
        "import numpy as np"
      ],
      "execution_count": null,
      "outputs": []
    },
    {
      "cell_type": "code",
      "metadata": {
        "id": "OFX3F3ZEq1sv"
      },
      "source": [
        "!wget -q https://storage.googleapis.com/bert_models/2018_11_23/multi_cased_L-12_H-768_A-12.zip\n",
        "!unzip -o multi_cased_L-12_H-768_A-12.zip"
      ],
      "execution_count": null,
      "outputs": []
    },
    {
      "cell_type": "code",
      "metadata": {
        "id": "bTBpFFc7aOHW"
      },
      "source": [
        "pretrained_path = '/content/drive/MyDrive/JK_Research/Sentiment-Analysis-using-BERT-master/BERT-embedding-CNN/multi_cased_L-12_H-768_A-12'\n",
        "config_path = os.path.join(pretrained_path, 'bert_config.json')\n",
        "checkpoint_path = os.path.join(pretrained_path, 'bert_model.ckpt')\n",
        "vocab_path = os.path.join(pretrained_path, 'vocab.txt')"
      ],
      "execution_count": null,
      "outputs": []
    },
    {
      "cell_type": "code",
      "metadata": {
        "id": "p48y2Ohpp28v"
      },
      "source": [
        "SEQ_LEN = 128"
      ],
      "execution_count": null,
      "outputs": []
    },
    {
      "cell_type": "code",
      "source": [
        "model = load_trained_model_from_checkpoint(\n",
        "    config_path,\n",
        "    checkpoint_path,\n",
        "    trainable=True,\n",
        "    seq_len=SEQ_LEN,\n",
        "    output_layer_num=4\n",
        ")"
      ],
      "metadata": {
        "id": "mIydAw4LhBw5"
      },
      "execution_count": null,
      "outputs": []
    },
    {
      "cell_type": "code",
      "metadata": {
        "id": "lF8dztdfIUzk"
      },
      "source": [
        "import keras_bert\n",
        "from tensorflow.keras.layers import Dense, Input, Flatten,SpatialDropout1D\n",
        "from tensorflow.keras.layers import Conv1D, MaxPool1D, Embedding, Concatenate, Dropout,GlobalMaxPool1D,Lambda\n",
        "from tensorflow.keras.models import Model\n",
        "from tensorflow.keras.layers import Bidirectional,LSTM,GRU"
      ],
      "execution_count": null,
      "outputs": []
    },
    {
      "cell_type": "code",
      "metadata": {
        "id": "EgwD-Q6lLfEP"
      },
      "source": [
        "LR=2e-5"
      ],
      "execution_count": null,
      "outputs": []
    },
    {
      "cell_type": "code",
      "metadata": {
        "id": "3rrW8gNrpXdr"
      },
      "source": [
        "class NonMasking(keras.layers.Layer):   \n",
        "    def __init__(self, **kwargs):   \n",
        "        self.supports_masking = True  \n",
        "        super(NonMasking, self).__init__(**kwargs)   \n",
        "  \n",
        "    def build(self, input_shape):   \n",
        "        input_shape = input_shape   \n",
        "  \n",
        "    def compute_mask(self, input, input_mask=None):   \n",
        "        # do not pass the mask to the next layers   \n",
        "        return None   \n",
        "  \n",
        "    def call(self, x, mask=None):   \n",
        "        return x   \n",
        "  \n",
        "    def get_output_shape_for(self, input_shape):   \n",
        "        return input_shape  "
      ],
      "execution_count": null,
      "outputs": []
    },
    {
      "cell_type": "code",
      "metadata": {
        "id": "sEc_uPxEA3QH"
      },
      "source": [
        "inputs = model.inputs\n",
        "bert_out = NonMasking()(model.outputs)\n",
        "\n",
        "bert_out = SpatialDropout1D(0.5)(bert_out)\n",
        "\n",
        "filter_lengths = [3, 4, 5]\n",
        "conv_layers = []\n",
        "for filter_length in filter_lengths:\n",
        "    conv_layer = Conv1D(filters=100, kernel_size=filter_length, padding='valid',\n",
        "                        strides=1, activation='relu')(bert_out)\n",
        "    maxpooling = MaxPool1D(pool_size=SEQ_LEN - filter_length + 1)(conv_layer)\n",
        "    flatten = Flatten()(maxpooling)\n",
        "    conv_layers.append(flatten)\n",
        "sentence_embed = Concatenate()(conv_layers)\n",
        "\n",
        "dense_layer = Dense(128, activation='relu')(sentence_embed)\n",
        "preds = Dense(1, activation='sigmoid')(dense_layer)\n",
        "model1 = Model(inputs, preds)"
      ],
      "execution_count": null,
      "outputs": []
    },
    {
      "cell_type": "code",
      "metadata": {
        "id": "SXXocc9-D1Cc"
      },
      "source": [
        "model1.compile(loss='binary_crossentropy',\n",
        "              optimizer=RAdam(learning_rate=LR),\n",
        "              metrics=['acc'])"
      ],
      "execution_count": null,
      "outputs": []
    },
    {
      "cell_type": "code",
      "metadata": {
        "id": "oVAFn-yrMVSH"
      },
      "source": [
        "token_dict = {}\n",
        "with codecs.open(vocab_path, 'rb','utf-8') as reader:\n",
        "    for line in reader:\n",
        "        token = line.strip()\n",
        "        token_dict[token] = len(token_dict)"
      ],
      "execution_count": null,
      "outputs": []
    },
    {
      "cell_type": "code",
      "metadata": {
        "id": "nFLhfWk-MV_2"
      },
      "source": [
        "from keras_bert import Tokenizer\n",
        "tokenizer = Tokenizer(token_dict,cased=True)"
      ],
      "execution_count": null,
      "outputs": []
    },
    {
      "cell_type": "code",
      "metadata": {
        "id": "ErLi5E6uMmbX"
      },
      "source": [
        "from sklearn.model_selection import train_test_split\n",
        "def load_data(data, sentiments):\n",
        "    global tokenizer\n",
        "    indices = []\n",
        "    for text in data:\n",
        "      ids, segments = tokenizer.encode(text, max_len=SEQ_LEN)\n",
        "      indices.append(ids)\n",
        "\n",
        "    return [indices, np.zeros_like(indices)], np.array(sentiments)"
      ],
      "execution_count": null,
      "outputs": []
    },
    {
      "cell_type": "code",
      "metadata": {
        "id": "o8z6JDYPZngz"
      },
      "source": [
        "SEQ_LENdata_train_,data_valid,label_train_,label_valid = train_test_split(data_train,label_train,test_size=0.15,random_state=48)"
      ],
      "execution_count": null,
      "outputs": []
    },
    {
      "cell_type": "code",
      "metadata": {
        "id": "pu3K59IUMX88"
      },
      "source": [
        "X_train,Y_train = load_data(data_train_,label_train_)\n",
        "X_valid,Y_valid = load_data(data_valid,label_valid)\n",
        "X_test,Y_test = load_data(data_test,label_test)"
      ],
      "execution_count": null,
      "outputs": []
    },
    {
      "cell_type": "code",
      "metadata": {
        "id": "dF-K5p74BYLm"
      },
      "source": [
        "sess = K.get_session()\n",
        "uninitialized_variables = set([i.decode('ascii') for i in sess.run(tf.report_uninitialized_variables())])\n",
        "init_op = tf.variables_initializer(\n",
        "    [v for v in tf.global_variables() if v.name.split(':')[0] in uninitialized_variables]\n",
        ")\n",
        "sess.run(init_op)"
      ],
      "execution_count": null,
      "outputs": []
    },
    {
      "cell_type": "code",
      "metadata": {
        "id": "i-gkm1N5fwhA"
      },
      "source": [
        "from keras.callbacks import ModelCheckpoint \n",
        "checkpoint = ModelCheckpoint(path+'model.h5', monitor='val_acc', verbose=1, save_best_only=True, mode='max')\n",
        "callbacks_list = [checkpoint]"
      ],
      "execution_count": null,
      "outputs": []
    },
    {
      "cell_type": "code",
      "metadata": {
        "id": "-j8k3BpBMESf"
      },
      "source": [
        "model1.load_weights(path+'model.h5')"
      ],
      "execution_count": null,
      "outputs": []
    },
    {
      "cell_type": "code",
      "metadata": {
        "id": "BEJCwOS_MG9N"
      },
      "source": [
        "model1.fit(X_train,Y_train,epochs=10,batch_size=16,verbose = 1,validation_data=[X_valid,Y_valid],callbacks=callbacks_list)   "
      ],
      "execution_count": null,
      "outputs": []
    },
    {
      "cell_type": "code",
      "metadata": {
        "id": "WtiQC9qeQqqq"
      },
      "source": [
        "y_pred = np.round(model1.predict(X_test))"
      ],
      "execution_count": null,
      "outputs": []
    },
    {
      "cell_type": "code",
      "metadata": {
        "id": "maN0hxU1nH7s"
      },
      "source": [
        "from sklearn.metrics import precision_score,recall_score,f1_score\n",
        "print(precision_score(Y_test,y_pred))\n",
        "print(recall_score(Y_test,y_pred))\n",
        "print(f1_score(Y_test,y_pred))"
      ],
      "execution_count": null,
      "outputs": []
    },
    {
      "cell_type": "code",
      "metadata": {
        "id": "33frUXXqat4H"
      },
      "source": [
        "from sklearn.metrics import confusion_matrix\n",
        "import matplotlib.pyplot as plt\n",
        "import matplotlib\n",
        "import numpy as np\n",
        "import itertools\n",
        "matplotlib.rcParams.update({'font.size': 16})\n",
        "labels = [0,1]\n",
        "cn = confusion_matrix(Y_test,y_pred,labels=labels)"
      ],
      "execution_count": null,
      "outputs": []
    },
    {
      "cell_type": "code",
      "metadata": {
        "id": "76NoIT0Yo0Hp"
      },
      "source": [
        "#@title plot confusion matrix\n",
        "def plot_confusion_matrix(cm,\n",
        "                          title='Confusion matrix',\n",
        "                          cmap=None,\n",
        "                          normalize=True,\n",
        "                          target_names=None,\n",
        "                          path_file='1.svg'):\n",
        "    \n",
        "    accuracy = np.trace(cm) / float(np.sum(cm))\n",
        "    misclass = 1 - accuracy\n",
        "\n",
        "    if cmap is None:\n",
        "        cmap = plt.get_cmap('Blues')\n",
        "\n",
        "    plt.figure(figsize=(8, 6))\n",
        "    plt.imshow(cm, interpolation='nearest', cmap=cmap)\n",
        "    plt.title(title)\n",
        "    plt.colorbar()\n",
        "\n",
        "    if target_names is not None:\n",
        "        tick_marks = np.arange(len(target_names))\n",
        "        plt.xticks(tick_marks, target_names)\n",
        "        plt.yticks(tick_marks, target_names)\n",
        "\n",
        "    if normalize:\n",
        "        cm = cm.astype('float') / cm.sum(axis=1)[:, np.newaxis]\n",
        "\n",
        "\n",
        "    thresh = cm.max() / 1.5 if normalize else cm.max() / 2\n",
        "    for i, j in itertools.product(range(cm.shape[0]), range(cm.shape[1])):\n",
        "        if normalize:\n",
        "            plt.text(j, i, \"{:0.4f}\".format(cm[i, j]),\n",
        "                     horizontalalignment=\"center\",\n",
        "                     color=\"white\" if cm[i, j] > thresh else \"black\")\n",
        "        else:\n",
        "            plt.text(j, i, \"{:,}\".format(cm[i, j]),\n",
        "                     horizontalalignment=\"center\",\n",
        "                     color=\"white\" if cm[i, j] > thresh else \"black\")\n",
        "\n",
        "\n",
        "    plt.tight_layout()\n",
        "    plt.ylabel('True label')\n",
        "    plt.xlabel('Predicted label')\n",
        "    plt.savefig(path_file,format='svg')\n",
        "    plt.show()\n",
        "    "
      ],
      "execution_count": null,
      "outputs": []
    },
    {
      "cell_type": "code",
      "metadata": {
        "id": "GaBGbMx5ngZI"
      },
      "source": [
        "plot_confusion_matrix(cn,title='Data vreview',normalize=False,target_names=labels,path_file=path+'C_M.svg')"
      ],
      "execution_count": null,
      "outputs": []
    }
  ]
}